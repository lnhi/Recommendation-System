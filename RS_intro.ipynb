{
  "nbformat": 4,
  "nbformat_minor": 0,
  "metadata": {
    "colab": {
      "provenance": []
    },
    "kernelspec": {
      "name": "python3",
      "display_name": "Python 3"
    },
    "language_info": {
      "name": "python"
    }
  },
  "cells": [
    {
      "cell_type": "code",
      "execution_count": 15,
      "metadata": {
        "id": "6P7j83OMnqUO"
      },
      "outputs": [],
      "source": [
        "!pip install --quiet cornac==1.15.4"
      ]
    },
    {
      "cell_type": "code",
      "source": [
        "import os\n",
        "import sys\n",
        "import cornac\n",
        "import numpy as np\n",
        "import pandas as pd\n",
        "import matplotlib.pyplot as plt\n",
        "import seaborn as sns\n",
        "from scipy import stats, sparse\n",
        "\n",
        "%matplotlib inline\n"
      ],
      "metadata": {
        "id": "0z98rPbFol-D"
      },
      "execution_count": 16,
      "outputs": []
    },
    {
      "cell_type": "markdown",
      "source": [
        "#Data exploration"
      ],
      "metadata": {
        "id": "1zq98kwD7lgP"
      }
    },
    {
      "cell_type": "code",
      "source": [
        "data = cornac.datasets.movielens.load_feedback(variant=\"100K\")\n",
        "df = pd.DataFrame(data, columns = [\"user_id\", \"item_id\", \"rating\"])\n",
        "df.head(10)"
      ],
      "metadata": {
        "colab": {
          "base_uri": "https://localhost:8080/",
          "height": 363
        },
        "id": "Rvoe140D7osx",
        "outputId": "3b2388d6-8aa5-4660-ad65-b5359aebb9c7"
      },
      "execution_count": 17,
      "outputs": [
        {
          "output_type": "execute_result",
          "data": {
            "text/plain": [
              "  user_id item_id  rating\n",
              "0     196     242     3.0\n",
              "1     186     302     3.0\n",
              "2      22     377     1.0\n",
              "3     244      51     2.0\n",
              "4     166     346     1.0\n",
              "5     298     474     4.0\n",
              "6     115     265     2.0\n",
              "7     253     465     5.0\n",
              "8     305     451     3.0\n",
              "9       6      86     3.0"
            ],
            "text/html": [
              "\n",
              "  <div id=\"df-6197e127-f344-4722-a2d6-36cb99627ee7\">\n",
              "    <div class=\"colab-df-container\">\n",
              "      <div>\n",
              "<style scoped>\n",
              "    .dataframe tbody tr th:only-of-type {\n",
              "        vertical-align: middle;\n",
              "    }\n",
              "\n",
              "    .dataframe tbody tr th {\n",
              "        vertical-align: top;\n",
              "    }\n",
              "\n",
              "    .dataframe thead th {\n",
              "        text-align: right;\n",
              "    }\n",
              "</style>\n",
              "<table border=\"1\" class=\"dataframe\">\n",
              "  <thead>\n",
              "    <tr style=\"text-align: right;\">\n",
              "      <th></th>\n",
              "      <th>user_id</th>\n",
              "      <th>item_id</th>\n",
              "      <th>rating</th>\n",
              "    </tr>\n",
              "  </thead>\n",
              "  <tbody>\n",
              "    <tr>\n",
              "      <th>0</th>\n",
              "      <td>196</td>\n",
              "      <td>242</td>\n",
              "      <td>3.0</td>\n",
              "    </tr>\n",
              "    <tr>\n",
              "      <th>1</th>\n",
              "      <td>186</td>\n",
              "      <td>302</td>\n",
              "      <td>3.0</td>\n",
              "    </tr>\n",
              "    <tr>\n",
              "      <th>2</th>\n",
              "      <td>22</td>\n",
              "      <td>377</td>\n",
              "      <td>1.0</td>\n",
              "    </tr>\n",
              "    <tr>\n",
              "      <th>3</th>\n",
              "      <td>244</td>\n",
              "      <td>51</td>\n",
              "      <td>2.0</td>\n",
              "    </tr>\n",
              "    <tr>\n",
              "      <th>4</th>\n",
              "      <td>166</td>\n",
              "      <td>346</td>\n",
              "      <td>1.0</td>\n",
              "    </tr>\n",
              "    <tr>\n",
              "      <th>5</th>\n",
              "      <td>298</td>\n",
              "      <td>474</td>\n",
              "      <td>4.0</td>\n",
              "    </tr>\n",
              "    <tr>\n",
              "      <th>6</th>\n",
              "      <td>115</td>\n",
              "      <td>265</td>\n",
              "      <td>2.0</td>\n",
              "    </tr>\n",
              "    <tr>\n",
              "      <th>7</th>\n",
              "      <td>253</td>\n",
              "      <td>465</td>\n",
              "      <td>5.0</td>\n",
              "    </tr>\n",
              "    <tr>\n",
              "      <th>8</th>\n",
              "      <td>305</td>\n",
              "      <td>451</td>\n",
              "      <td>3.0</td>\n",
              "    </tr>\n",
              "    <tr>\n",
              "      <th>9</th>\n",
              "      <td>6</td>\n",
              "      <td>86</td>\n",
              "      <td>3.0</td>\n",
              "    </tr>\n",
              "  </tbody>\n",
              "</table>\n",
              "</div>\n",
              "      <button class=\"colab-df-convert\" onclick=\"convertToInteractive('df-6197e127-f344-4722-a2d6-36cb99627ee7')\"\n",
              "              title=\"Convert this dataframe to an interactive table.\"\n",
              "              style=\"display:none;\">\n",
              "        \n",
              "  <svg xmlns=\"http://www.w3.org/2000/svg\" height=\"24px\"viewBox=\"0 0 24 24\"\n",
              "       width=\"24px\">\n",
              "    <path d=\"M0 0h24v24H0V0z\" fill=\"none\"/>\n",
              "    <path d=\"M18.56 5.44l.94 2.06.94-2.06 2.06-.94-2.06-.94-.94-2.06-.94 2.06-2.06.94zm-11 1L8.5 8.5l.94-2.06 2.06-.94-2.06-.94L8.5 2.5l-.94 2.06-2.06.94zm10 10l.94 2.06.94-2.06 2.06-.94-2.06-.94-.94-2.06-.94 2.06-2.06.94z\"/><path d=\"M17.41 7.96l-1.37-1.37c-.4-.4-.92-.59-1.43-.59-.52 0-1.04.2-1.43.59L10.3 9.45l-7.72 7.72c-.78.78-.78 2.05 0 2.83L4 21.41c.39.39.9.59 1.41.59.51 0 1.02-.2 1.41-.59l7.78-7.78 2.81-2.81c.8-.78.8-2.07 0-2.86zM5.41 20L4 18.59l7.72-7.72 1.47 1.35L5.41 20z\"/>\n",
              "  </svg>\n",
              "      </button>\n",
              "      \n",
              "  <style>\n",
              "    .colab-df-container {\n",
              "      display:flex;\n",
              "      flex-wrap:wrap;\n",
              "      gap: 12px;\n",
              "    }\n",
              "\n",
              "    .colab-df-convert {\n",
              "      background-color: #E8F0FE;\n",
              "      border: none;\n",
              "      border-radius: 50%;\n",
              "      cursor: pointer;\n",
              "      display: none;\n",
              "      fill: #1967D2;\n",
              "      height: 32px;\n",
              "      padding: 0 0 0 0;\n",
              "      width: 32px;\n",
              "    }\n",
              "\n",
              "    .colab-df-convert:hover {\n",
              "      background-color: #E2EBFA;\n",
              "      box-shadow: 0px 1px 2px rgba(60, 64, 67, 0.3), 0px 1px 3px 1px rgba(60, 64, 67, 0.15);\n",
              "      fill: #174EA6;\n",
              "    }\n",
              "\n",
              "    [theme=dark] .colab-df-convert {\n",
              "      background-color: #3B4455;\n",
              "      fill: #D2E3FC;\n",
              "    }\n",
              "\n",
              "    [theme=dark] .colab-df-convert:hover {\n",
              "      background-color: #434B5C;\n",
              "      box-shadow: 0px 1px 3px 1px rgba(0, 0, 0, 0.15);\n",
              "      filter: drop-shadow(0px 1px 2px rgba(0, 0, 0, 0.3));\n",
              "      fill: #FFFFFF;\n",
              "    }\n",
              "  </style>\n",
              "\n",
              "      <script>\n",
              "        const buttonEl =\n",
              "          document.querySelector('#df-6197e127-f344-4722-a2d6-36cb99627ee7 button.colab-df-convert');\n",
              "        buttonEl.style.display =\n",
              "          google.colab.kernel.accessAllowed ? 'block' : 'none';\n",
              "\n",
              "        async function convertToInteractive(key) {\n",
              "          const element = document.querySelector('#df-6197e127-f344-4722-a2d6-36cb99627ee7');\n",
              "          const dataTable =\n",
              "            await google.colab.kernel.invokeFunction('convertToInteractive',\n",
              "                                                     [key], {});\n",
              "          if (!dataTable) return;\n",
              "\n",
              "          const docLinkHtml = 'Like what you see? Visit the ' +\n",
              "            '<a target=\"_blank\" href=https://colab.research.google.com/notebooks/data_table.ipynb>data table notebook</a>'\n",
              "            + ' to learn more about interactive tables.';\n",
              "          element.innerHTML = '';\n",
              "          dataTable['output_type'] = 'display_data';\n",
              "          await google.colab.output.renderOutput(dataTable, element);\n",
              "          const docLink = document.createElement('div');\n",
              "          docLink.innerHTML = docLinkHtml;\n",
              "          element.appendChild(docLink);\n",
              "        }\n",
              "      </script>\n",
              "    </div>\n",
              "  </div>\n",
              "  "
            ]
          },
          "metadata": {},
          "execution_count": 17
        }
      ]
    },
    {
      "cell_type": "code",
      "source": [
        "print(f\"Number of ratings: {len(df)}\")\n",
        "print(f\"Number of users: {df.user_id.nunique()}\")\n",
        "print(f\"Number of items: {df.item_id.nunique()}\")"
      ],
      "metadata": {
        "colab": {
          "base_uri": "https://localhost:8080/"
        },
        "id": "4TJ4q6Bn7-TZ",
        "outputId": "59099471-236e-4324-ea5d-59fdec38cdeb"
      },
      "execution_count": 18,
      "outputs": [
        {
          "output_type": "stream",
          "name": "stdout",
          "text": [
            "Number of ratings: 100000\n",
            "Number of users: 943\n",
            "Number of items: 1682\n"
          ]
        }
      ]
    },
    {
      "cell_type": "markdown",
      "source": [
        "##Rating statistics"
      ],
      "metadata": {
        "id": "bgSHX97H8uV4"
      }
    },
    {
      "cell_type": "code",
      "source": [
        "df.rating.describe()"
      ],
      "metadata": {
        "colab": {
          "base_uri": "https://localhost:8080/"
        },
        "id": "BBUZ-J778z8A",
        "outputId": "7139cffe-2ff2-4f19-8727-18a0803de296"
      },
      "execution_count": 19,
      "outputs": [
        {
          "output_type": "execute_result",
          "data": {
            "text/plain": [
              "count    100000.000000\n",
              "mean          3.529860\n",
              "std           1.125674\n",
              "min           1.000000\n",
              "25%           3.000000\n",
              "50%           4.000000\n",
              "75%           4.000000\n",
              "max           5.000000\n",
              "Name: rating, dtype: float64"
            ]
          },
          "metadata": {},
          "execution_count": 19
        }
      ]
    },
    {
      "cell_type": "markdown",
      "source": [
        "The 1st figure shows a histogram of frequency of each rating.\n",
        "The 2nd describe in the form of box plot"
      ],
      "metadata": {
        "id": "rPD8ChkN_ae-"
      }
    },
    {
      "cell_type": "code",
      "source": [
        "fig, axes = plt.subplots(nrows=1, ncols=2, figsize=(14, 5))\n",
        "sns.countplot(x=\"rating\", data=df, palette=\"ch:.25\", ax=axes[0])\n",
        "sns.boxplot(x=\"rating\", data = df, palette=\"ch:.25\", ax=axes[1])"
      ],
      "metadata": {
        "colab": {
          "base_uri": "https://localhost:8080/",
          "height": 352
        },
        "id": "FpPe8ZjV87md",
        "outputId": "8469e686-313b-495e-ee8b-005bcc65a57f"
      },
      "execution_count": 20,
      "outputs": [
        {
          "output_type": "execute_result",
          "data": {
            "text/plain": [
              "<Axes: xlabel='rating'>"
            ]
          },
          "metadata": {},
          "execution_count": 20
        },
        {
          "output_type": "display_data",
          "data": {
            "text/plain": [
              "<Figure size 1400x500 with 2 Axes>"
            ],
            "image/png": "[encoded data removed]"
          },
          "metadata": {}
        }
      ]
    },
    {
      "cell_type": "markdown",
      "source": [
        "##Data sparsity"
      ],
      "metadata": {
        "id": "okUt8mzQ9WBp"
      }
    },
    {
      "cell_type": "code",
      "source": [
        "n_users = df.user_id.nunique()\n",
        "n_items = df.item_id.nunique()\n",
        "n_ratings = len(df)\n",
        "rating_matrix_size = n_users * n_items\n",
        "sparsity = 1 - n_ratings / rating_matrix_size\n",
        "\n",
        "print(f\"Number of users: {n_users}\")\n",
        "print(f\"Number of items: {n_items}\")\n",
        "print(f\"Number of available ratings: {n_ratings}\")\n",
        "print(f\"Number of all possible ratings: {rating_matrix_size}\")\n",
        "print(f\"SPARSITY: {sparsity * 100.0:.2f}%\")"
      ],
      "metadata": {
        "colab": {
          "base_uri": "https://localhost:8080/"
        },
        "id": "IM0bT1Rq9ZDw",
        "outputId": "d6aa376f-e1ad-4ab1-a848-36a39bda5e54"
      },
      "execution_count": 21,
      "outputs": [
        {
          "output_type": "stream",
          "name": "stdout",
          "text": [
            "Number of users: 943\n",
            "Number of items: 1682\n",
            "Number of available ratings: 100000\n",
            "Number of all possible ratings: 1586126\n",
            "SPARSITY: 93.70%\n"
          ]
        }
      ]
    },
    {
      "cell_type": "markdown",
      "source": [
        "##Power_Law Distribution/Long-tailed distribution"
      ],
      "metadata": {
        "id": "LOCDiAvj-1eF"
      }
    },
    {
      "cell_type": "markdown",
      "source": [
        "Top 10 rated items"
      ],
      "metadata": {
        "id": "N31FxL-Qp7FK"
      }
    },
    {
      "cell_type": "code",
      "source": [
        "item_rate_count = df.groupby(\"item_id\")[\"user_id\"].nunique().sort_values(ascending = False)\n",
        "item_rate_count.head(10)"
      ],
      "metadata": {
        "colab": {
          "base_uri": "https://localhost:8080/"
        },
        "id": "NKJ5-AcU--da",
        "outputId": "814a5125-2d9b-4a02-dd0e-5a92a8857b82"
      },
      "execution_count": 22,
      "outputs": [
        {
          "output_type": "execute_result",
          "data": {
            "text/plain": [
              "item_id\n",
              "50     583\n",
              "258    509\n",
              "100    508\n",
              "181    507\n",
              "294    485\n",
              "286    481\n",
              "288    478\n",
              "1      452\n",
              "300    431\n",
              "121    429\n",
              "Name: user_id, dtype: int64"
            ]
          },
          "metadata": {},
          "execution_count": 22
        }
      ]
    },
    {
      "cell_type": "markdown",
      "source": [
        "List of 10 least rated items"
      ],
      "metadata": {
        "id": "GijZUEP9qBN4"
      }
    },
    {
      "cell_type": "code",
      "source": [
        "item_rate_count.tail(10)"
      ],
      "metadata": {
        "colab": {
          "base_uri": "https://localhost:8080/"
        },
        "id": "cDVLOXtgqK69",
        "outputId": "5e8f38dd-d55d-48fc-9fbc-9d7c3be60378"
      },
      "execution_count": 23,
      "outputs": [
        {
          "output_type": "execute_result",
          "data": {
            "text/plain": [
              "item_id\n",
              "1580    1\n",
              "1581    1\n",
              "1582    1\n",
              "1583    1\n",
              "1584    1\n",
              "1586    1\n",
              "1587    1\n",
              "1363    1\n",
              "1364    1\n",
              "1604    1\n",
              "Name: user_id, dtype: int64"
            ]
          },
          "metadata": {},
          "execution_count": 23
        }
      ]
    },
    {
      "cell_type": "markdown",
      "source": [
        "The figure shows the number of ratings of each item and the figure show the relationship between the number of ratings and the number of items (in log scale)."
      ],
      "metadata": {
        "id": "WzZs4Dv5qhUc"
      }
    },
    {
      "cell_type": "code",
      "source": [
        "fig, axes = plt.subplots(nrows=1, ncols=2, figsize=(14, 5))\n",
        "\n",
        "axes[0].bar(x=item_rate_count.index, height = item_rate_count.values, width=1.0, align=\"edge\")\n",
        "axes[0].set_xticks([])\n",
        "axes[0].set(title=\"long tail of rating frequency\", xlabel=\"item ordered by decreasing frequency\", \n",
        "            ylabel=\"rating\")\n",
        "count = item_rate_count.value_counts()\n",
        "sns.scatterplot(x=np.log(count.index), y=np.log(count.values), ax=axes[1])\n",
        "axes[1].set(title=\"log-log plot\", xlabel=\"rating (log scale)\", ylabel=\"item (log scale)\")"
      ],
      "metadata": {
        "colab": {
          "base_uri": "https://localhost:8080/",
          "height": 408
        },
        "id": "jL2Io7VJq4Wu",
        "outputId": "1ac65f39-601d-47c3-a4a7-a8ac1b915cc6"
      },
      "execution_count": 24,
      "outputs": [
        {
          "output_type": "execute_result",
          "data": {
            "text/plain": [
              "[Text(0.5, 1.0, 'log-log plot'),\n",
              " Text(0.5, 0, 'rating (log scale)'),\n",
              " Text(0, 0.5, 'item (log scale)')]"
            ]
          },
          "metadata": {},
          "execution_count": 24
        },
        {
          "output_type": "display_data",
          "data": {
            "text/plain": [
              "<Figure size 1400x500 with 2 Axes>"
            ],
            "image/png": "[encoded data removed]"
          },
          "metadata": {}
        }
      ]
    },
    {
      "cell_type": "markdown",
      "source": [
        "#Recommendation Based on Item Popularity"
      ],
      "metadata": {
        "id": "5NZOcbZPzKU2"
      }
    },
    {
      "cell_type": "code",
      "source": [
        "# 5-fold cross validation\n",
        "eval_method = cornac.eval_methods.CrossValidation(data, n_folds=5, seed=42)\n",
        "\n",
        "#recommender system based on item popularity\n",
        "most_pop = cornac.models.MostPop()\n",
        "\n",
        "#recall@20 metric\n",
        "rec_20 = cornac.metrics.Recall(k=20)\n",
        "\n",
        "#put everything together into an experiment\n",
        "cornac.Experiment(eval_method=eval_method, models=[most_pop], metrics=[rec_20]).run()\n"
      ],
      "metadata": {
        "colab": {
          "base_uri": "https://localhost:8080/"
        },
        "id": "4laQuRRMzX10",
        "outputId": "e11c6a1f-5bc8-41d4-9ac7-600d4aeca957"
      },
      "execution_count": 25,
      "outputs": [
        {
          "output_type": "stream",
          "name": "stdout",
          "text": [
            "\n",
            "TEST:\n",
            "...\n",
            "[MostPop]\n",
            "       | Recall@20 | Train (s) | Test (s)\n",
            "------ + --------- + --------- + --------\n",
            "Fold 0 |    0.1263 |    0.0062 |   0.4874\n",
            "Fold 1 |    0.1304 |    0.0063 |   0.5619\n",
            "Fold 2 |    0.1337 |    0.0086 |   0.5996\n",
            "Fold 3 |    0.1252 |    0.0088 |   0.6179\n",
            "Fold 4 |    0.1187 |    0.0064 |   0.4154\n",
            "------ + --------- + --------- + --------\n",
            "Mean   |    0.1269 |    0.0073 |   0.5365\n",
            "Std    |    0.0051 |    0.0012 |   0.0753\n",
            "\n"
          ]
        }
      ]
    }
  ]
}